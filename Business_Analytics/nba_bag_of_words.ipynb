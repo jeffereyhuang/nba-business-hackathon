{
 "cells": [
  {
   "cell_type": "code",
   "execution_count": 124,
   "metadata": {},
   "outputs": [],
   "source": [
    "import pandas as pd\n",
    "import numpy as np\n",
    "import matplotlib.pyplot as plt\n",
    "import re\n",
    "from nba_creation_date import CreationDate, date_string_to_datetime\n",
    "\n",
    "from sklearn.model_selection import train_test_split\n",
    "from nltk.corpus import stopwords\n",
    "from sklearn.pipeline import Pipeline\n",
    "from sklearn.feature_extraction.text import CountVectorizer\n",
    "from sklearn import feature_selection\n",
    "from sklearn.feature_extraction.text import TfidfTransformer\n",
    "from sklearn.naive_bayes import MultinomialNB"
   ]
  },
  {
   "cell_type": "code",
   "execution_count": 248,
   "metadata": {},
   "outputs": [
    {
     "data": {
      "text/html": [
       "<div>\n",
       "<style scoped>\n",
       "    .dataframe tbody tr th:only-of-type {\n",
       "        vertical-align: middle;\n",
       "    }\n",
       "\n",
       "    .dataframe tbody tr th {\n",
       "        vertical-align: top;\n",
       "    }\n",
       "\n",
       "    .dataframe thead th {\n",
       "        text-align: right;\n",
       "    }\n",
       "</style>\n",
       "<table border=\"1\" class=\"dataframe\">\n",
       "  <thead>\n",
       "    <tr style=\"text-align: right;\">\n",
       "      <th></th>\n",
       "      <th>Engagements</th>\n",
       "      <th>Followers</th>\n",
       "      <th>Created</th>\n",
       "      <th>Type</th>\n",
       "      <th>Description</th>\n",
       "    </tr>\n",
       "  </thead>\n",
       "  <tbody>\n",
       "    <tr>\n",
       "      <th>0</th>\n",
       "      <td>502093</td>\n",
       "      <td>36984682</td>\n",
       "      <td>2019-05-21 23:30:51 EDT</td>\n",
       "      <td>Video</td>\n",
       "      <td>The @raptors bench trio of @sergeibaka @norman...</td>\n",
       "    </tr>\n",
       "    <tr>\n",
       "      <th>1</th>\n",
       "      <td>603380</td>\n",
       "      <td>36984682</td>\n",
       "      <td>2019-05-21 22:53:33 EDT</td>\n",
       "      <td>Video</td>\n",
       "      <td>@kyle_lowry7 pulls from deep for the @raptors ...</td>\n",
       "    </tr>\n",
       "    <tr>\n",
       "      <th>2</th>\n",
       "      <td>603380</td>\n",
       "      <td>36984682</td>\n",
       "      <td>2019-05-21 22:19:58 EDT</td>\n",
       "      <td>Video</td>\n",
       "      <td>@k_mid22 with some english on the @bucks dime!</td>\n",
       "    </tr>\n",
       "    <tr>\n",
       "      <th>3</th>\n",
       "      <td>725100</td>\n",
       "      <td>36984682</td>\n",
       "      <td>2019-05-21 22:02:41 EDT</td>\n",
       "      <td>Video</td>\n",
       "      <td>Kawhi punches it home with the left on TNT!</td>\n",
       "    </tr>\n",
       "    <tr>\n",
       "      <th>4</th>\n",
       "      <td>661446</td>\n",
       "      <td>36984682</td>\n",
       "      <td>2019-05-21 20:47:49 EDT</td>\n",
       "      <td>Video</td>\n",
       "      <td>@giannis_an34 goes baseline early to rock the ...</td>\n",
       "    </tr>\n",
       "  </tbody>\n",
       "</table>\n",
       "</div>"
      ],
      "text/plain": [
       "   Engagements  Followers                  Created   Type  \\\n",
       "0       502093   36984682  2019-05-21 23:30:51 EDT  Video   \n",
       "1       603380   36984682  2019-05-21 22:53:33 EDT  Video   \n",
       "2       603380   36984682  2019-05-21 22:19:58 EDT  Video   \n",
       "3       725100   36984682  2019-05-21 22:02:41 EDT  Video   \n",
       "4       661446   36984682  2019-05-21 20:47:49 EDT  Video   \n",
       "\n",
       "                                         Description  \n",
       "0  The @raptors bench trio of @sergeibaka @norman...  \n",
       "1  @kyle_lowry7 pulls from deep for the @raptors ...  \n",
       "2     @k_mid22 with some english on the @bucks dime!  \n",
       "3        Kawhi punches it home with the left on TNT!  \n",
       "4  @giannis_an34 goes baseline early to rock the ...  "
      ]
     },
     "execution_count": 248,
     "metadata": {},
     "output_type": "execute_result"
    }
   ],
   "source": [
    "# load data\n",
    "df = pd.read_excel('data/training_set.xlsx')\n",
    "df.rename(columns={'Followers at Posting': 'Followers'}, inplace=True)\n",
    "df_vid = df[df['Type'] == 'Video']\n",
    "df.head()"
   ]
  },
  {
   "cell_type": "code",
   "execution_count": 249,
   "metadata": {},
   "outputs": [],
   "source": [
    "# Function to clean word data--removes stopwords, makes lowercase, leaves in numbers and @\n",
    "def clean_words(sentences):\n",
    "    words_clean = np.full(len(sentences), None)\n",
    "    for i, words in enumerate(sentences):\n",
    "        words = str(words).replace('@', '')\n",
    "        word_list = re.split('\\W+', words)\n",
    "        words1 = [word.lower() for word in word_list if word.lower() not in stopwords.words('english')]\n",
    "        #words2 = [word for word in words1 if len(word) >= 3]\n",
    "        #words2 = [word for word in words1 if not any(char.isdigit() for char in word)]\n",
    "        words_clean[i] = (' '.join(words1)).strip()\n",
    "    return words_clean"
   ]
  },
  {
   "cell_type": "code",
   "execution_count": 241,
   "metadata": {},
   "outputs": [
    {
     "data": {
      "text/html": [
       "<div>\n",
       "<style scoped>\n",
       "    .dataframe tbody tr th:only-of-type {\n",
       "        vertical-align: middle;\n",
       "    }\n",
       "\n",
       "    .dataframe tbody tr th {\n",
       "        vertical-align: top;\n",
       "    }\n",
       "\n",
       "    .dataframe thead th {\n",
       "        text-align: right;\n",
       "    }\n",
       "</style>\n",
       "<table border=\"1\" class=\"dataframe\">\n",
       "  <thead>\n",
       "    <tr style=\"text-align: right;\">\n",
       "      <th></th>\n",
       "      <th>Engagements</th>\n",
       "      <th>Followers</th>\n",
       "      <th>Created</th>\n",
       "      <th>Type</th>\n",
       "      <th>Description</th>\n",
       "      <th>clean_words</th>\n",
       "    </tr>\n",
       "  </thead>\n",
       "  <tbody>\n",
       "    <tr>\n",
       "      <th>0</th>\n",
       "      <td>502093</td>\n",
       "      <td>36984682</td>\n",
       "      <td>2019-05-21 23:30:51 EDT</td>\n",
       "      <td>Video</td>\n",
       "      <td>The @raptors bench trio of @sergeibaka @norman...</td>\n",
       "      <td>raptors bench trio sergeibaka normanpowell4 fr...</td>\n",
       "    </tr>\n",
       "    <tr>\n",
       "      <th>1</th>\n",
       "      <td>603380</td>\n",
       "      <td>36984682</td>\n",
       "      <td>2019-05-21 22:53:33 EDT</td>\n",
       "      <td>Video</td>\n",
       "      <td>@kyle_lowry7 pulls from deep for the @raptors ...</td>\n",
       "      <td>kyle_lowry7 pulls deep raptors 4th tnt</td>\n",
       "    </tr>\n",
       "    <tr>\n",
       "      <th>2</th>\n",
       "      <td>603380</td>\n",
       "      <td>36984682</td>\n",
       "      <td>2019-05-21 22:19:58 EDT</td>\n",
       "      <td>Video</td>\n",
       "      <td>@k_mid22 with some english on the @bucks dime!</td>\n",
       "      <td>k_mid22 english bucks dime</td>\n",
       "    </tr>\n",
       "    <tr>\n",
       "      <th>3</th>\n",
       "      <td>725100</td>\n",
       "      <td>36984682</td>\n",
       "      <td>2019-05-21 22:02:41 EDT</td>\n",
       "      <td>Video</td>\n",
       "      <td>Kawhi punches it home with the left on TNT!</td>\n",
       "      <td>kawhi punches home left tnt</td>\n",
       "    </tr>\n",
       "    <tr>\n",
       "      <th>4</th>\n",
       "      <td>661446</td>\n",
       "      <td>36984682</td>\n",
       "      <td>2019-05-21 20:47:49 EDT</td>\n",
       "      <td>Video</td>\n",
       "      <td>@giannis_an34 goes baseline early to rock the ...</td>\n",
       "      <td>giannis_an34 goes baseline early rock rim tnt</td>\n",
       "    </tr>\n",
       "  </tbody>\n",
       "</table>\n",
       "</div>"
      ],
      "text/plain": [
       "   Engagements  Followers                  Created   Type  \\\n",
       "0       502093   36984682  2019-05-21 23:30:51 EDT  Video   \n",
       "1       603380   36984682  2019-05-21 22:53:33 EDT  Video   \n",
       "2       603380   36984682  2019-05-21 22:19:58 EDT  Video   \n",
       "3       725100   36984682  2019-05-21 22:02:41 EDT  Video   \n",
       "4       661446   36984682  2019-05-21 20:47:49 EDT  Video   \n",
       "\n",
       "                                         Description  \\\n",
       "0  The @raptors bench trio of @sergeibaka @norman...   \n",
       "1  @kyle_lowry7 pulls from deep for the @raptors ...   \n",
       "2     @k_mid22 with some english on the @bucks dime!   \n",
       "3        Kawhi punches it home with the left on TNT!   \n",
       "4  @giannis_an34 goes baseline early to rock the ...   \n",
       "\n",
       "                                         clean_words  \n",
       "0  raptors bench trio sergeibaka normanpowell4 fr...  \n",
       "1             kyle_lowry7 pulls deep raptors 4th tnt  \n",
       "2                         k_mid22 english bucks dime  \n",
       "3                        kawhi punches home left tnt  \n",
       "4      giannis_an34 goes baseline early rock rim tnt  "
      ]
     },
     "execution_count": 241,
     "metadata": {},
     "output_type": "execute_result"
    }
   ],
   "source": [
    "df['clean_words'] = clean_words(df['Description'])\n",
    "df.head()"
   ]
  },
  {
   "cell_type": "code",
   "execution_count": 242,
   "metadata": {},
   "outputs": [],
   "source": [
    "# calculate MAPE for model predictions\n",
    "def calculate_mape(true, predicted):\n",
    "    mapes = [abs((t - p) / t) for t, p in zip(true, predicted)]\n",
    "    return 100 * np.mean(mapes)"
   ]
  },
  {
   "cell_type": "code",
   "execution_count": 243,
   "metadata": {},
   "outputs": [
    {
     "name": "stdout",
     "output_type": "stream",
     "text": [
      "10.982961621561275\n"
     ]
    }
   ],
   "source": [
    "# model 1: ngrams = 1, min_df = 1, max_features = 100\n",
    "X_train, X_test, y_train, y_test = train_test_split(df_vid['clean_words'], df_vid['Engagements'], test_size=0.25)\n",
    "nb_model = Pipeline([('vect', CountVectorizer(ngram_range=(1,1), min_df=1, max_features=100)), \n",
    "                     #('feat', feature_selection.SelectKBest(k=20)),\n",
    "                     ('tfidf', TfidfTransformer()), ('clf', MultinomialNB()),])\n",
    "nb_model.fit(X_train, y_train)\n",
    "preds = nb_model.predict(X_test)\n",
    "print(calculate_mape(y_test, preds))"
   ]
  },
  {
   "cell_type": "code",
   "execution_count": 244,
   "metadata": {},
   "outputs": [
    {
     "name": "stdout",
     "output_type": "stream",
     "text": [
      "10.538381271725594\n"
     ]
    }
   ],
   "source": [
    "# model 2: ngrams = 2, min_df = 1, max_features = 100\n",
    "vect = CountVectorizer(ngram_range=(1,2), min_df=1, max_features=100)\n",
    "clf = MultinomialNB()\n",
    "X_train, X_test, y_train, y_test = train_test_split(df_vid['clean_words'], df_vid['Engagements'], test_size=0.25)\n",
    "nb_model = Pipeline([('vect', vect), \n",
    "                     #('feat', feature_selection.SelectKBest(k=20)),\n",
    "                     ('tfidf', TfidfTransformer()), ('clf', clf),])\n",
    "nb_model.fit(X_train, y_train)\n",
    "preds = nb_model.predict(X_test)\n",
    "print(calculate_mape(y_test, preds))"
   ]
  },
  {
   "cell_type": "markdown",
   "metadata": {},
   "source": [
    "Takeaways: models here aren't an improvement of baseline linear regression model in nba_instagram_models.R. There is promise here though, didn't tinker around with it a ton and it's only slightly worse than baseline. There is potential to combine these somehow (or maybe use the prediction here as an X variable in the baseline model. Haven't really debugged this model (what are most important features? what are the characteristics of the ones that it misses big time on?)"
   ]
  }
 ],
 "metadata": {
  "kernelspec": {
   "display_name": "Python 3",
   "language": "python",
   "name": "python3"
  },
  "language_info": {
   "codemirror_mode": {
    "name": "ipython",
    "version": 3
   },
   "file_extension": ".py",
   "mimetype": "text/x-python",
   "name": "python",
   "nbconvert_exporter": "python",
   "pygments_lexer": "ipython3",
   "version": "3.7.2"
  }
 },
 "nbformat": 4,
 "nbformat_minor": 2
}
